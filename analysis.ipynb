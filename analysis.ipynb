{
 "cells": [
  {
   "cell_type": "code",
   "execution_count": 8,
   "metadata": {},
   "outputs": [],
   "source": [
    "import requests\n",
    "\n",
    "import pandas as pd\n",
    "import random\n",
    "import matplotlib.pyplot as plt\n",
    "from scipy.cluster.vq import whiten, kmeans2\n",
    "\n",
    "%matplotlib inline"
   ]
  },
  {
   "cell_type": "code",
   "execution_count": 9,
   "metadata": {},
   "outputs": [],
   "source": [
    "def call_api(uri, result_key):\n",
    "    json = {}\n",
    "    try:\n",
    "        json = requests.get(uri, headers = { 'X-Auth-Token': '2a75a6c17ce9459fb82f0ea744f109cb' }).json()\n",
    "        return json[result_key]\n",
    "    except:\n",
    "        print(json)\n",
    "        return None"
   ]
  },
  {
   "cell_type": "code",
   "execution_count": 10,
   "metadata": {},
   "outputs": [],
   "source": [
    "teams = call_api('http://api.football-data.org/v1/competitions/444/teams', 'teams')\n",
    "for team in teams:\n",
    "    squadMarketValue = team['squadMarketValue']\n",
    "    if not squadMarketValue:\n",
    "        squadMarketValue = random.randint(10000000, 99999999)\n",
    "    fixtures = call_api(team['_links']['fixtures']['href'], 'fixtures')\n",
    "    losses = 0\n",
    "    for fixture in fixtures:\n",
    "        if team['name'] == fixture['homeTeamName']:\n",
    "            if fixture['result']['goalsHomeTeam'] and fixture['result']['goalsAwayTeam']:\n",
    "                if fixture['result']['goalsHomeTeam'] < fixture['result']['goalsAwayTeam']:                \n",
    "                    losses += 1\n",
    "        else:\n",
    "            if fixture['result']['goalsHomeTeam'] and fixture['result']['goalsAwayTeam']:\n",
    "                if fixture['result']['goalsAwayTeam'] < fixture['result']['goalsHomeTeam']:\n",
    "                    losses += 1 if fixture['result']['goalsHomeTeam'] else 0\n",
    "    team['squadMarketValue'] = squadMarketValue\n",
    "    team['losses'] = losses    \n",
    "\n",
    "team_for_pd = []\n",
    "for team in teams:\n",
    "    if team['losses']:\n",
    "        team_for_pd.append({'name': team['name'], 'squadMarketValue': team['squadMarketValue'], 'losses': team['losses']})\n",
    "teams_pd = pd.DataFrame(team_for_pd)\n",
    "del teams_pd['name']"
   ]
  },
  {
   "cell_type": "code",
   "execution_count": 11,
   "metadata": {},
   "outputs": [],
   "source": [
    "def draw_graph(segments_count, colors_map):\n",
    "    centroids, cluster_map = kmeans2(whitened, segments_count)\n",
    "\n",
    "    colors = [colors_map[c] for c in cluster_map]\n",
    "    teams_pd.plot.scatter(x='squadMarketValue', y='losses', c=colors, s=50)"
   ]
  },
  {
   "cell_type": "code",
   "execution_count": 12,
   "metadata": {},
   "outputs": [],
   "source": [
    "whitened = whiten(teams_pd.as_matrix())"
   ]
  },
  {
   "cell_type": "code",
   "execution_count": 13,
   "metadata": {},
   "outputs": [
    {
     "data": {
      "image/png": "[encoded data removed]",
      "text/plain": [
       "<matplotlib.figure.Figure at 0x25d67d9c390>"
      ]
     },
     "metadata": {},
     "output_type": "display_data"
    }
   ],
   "source": [
    "draw_graph(3, {0: 'r', 1: 'g', 2: 'b'})"
   ]
  },
  {
   "cell_type": "code",
   "execution_count": 14,
   "metadata": {},
   "outputs": [
    {
     "data": {
      "image/png": "[encoded data removed]",
      "text/plain": [
       "<matplotlib.figure.Figure at 0x25d679464e0>"
      ]
     },
     "metadata": {},
     "output_type": "display_data"
    }
   ],
   "source": [
    "draw_graph(5, {0: 'r', 1: 'g', 2: 'b', 3: 'y', 4: 'm'})"
   ]
  },
  {
   "cell_type": "code",
   "execution_count": null,
   "metadata": {},
   "outputs": [],
   "source": []
  }
 ],
 "metadata": {
  "kernelspec": {
   "display_name": "Python 3",
   "language": "python",
   "name": "python3"
  },
  "language_info": {
   "codemirror_mode": {
    "name": "ipython",
    "version": 3
   },
   "file_extension": ".py",
   "mimetype": "text/x-python",
   "name": "python",
   "nbconvert_exporter": "python",
   "pygments_lexer": "ipython3",
   "version": "3.6.4"
  }
 },
 "nbformat": 4,
 "nbformat_minor": 2
}
